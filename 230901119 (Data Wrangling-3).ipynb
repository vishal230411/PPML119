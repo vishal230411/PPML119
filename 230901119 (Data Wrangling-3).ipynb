{
 "cells": [
  {
   "cell_type": "code",
   "execution_count": 2,
   "id": "688d801a-0215-4a09-aac4-bcf39f8e6013",
   "metadata": {},
   "outputs": [
    {
     "name": "stdout",
     "output_type": "stream",
     "text": [
      "\n",
      "Original DataFrame:\n",
      "        Brand  Year  Sold\n",
      "0     Maruti  2010     6\n",
      "1     Maruti  2011     7\n",
      "2     Maruti  2009     9\n",
      "3     Maruti  2013     8\n",
      "4    Hyundai  2010     3\n",
      "5    Hyundai  2011     5\n",
      "6     Toyota  2011     2\n",
      "7   Mahindra  2010     8\n",
      "8   Mahindra  2013     7\n",
      "9       Ford  2010     2\n",
      "10    Toyota  2010     4\n",
      "11      Ford  2011     2\n",
      "\n",
      "Group by year 2010:\n",
      "        Brand  Year  Sold\n",
      "0     Maruti  2010     6\n",
      "4    Hyundai  2010     3\n",
      "7   Mahindra  2010     8\n",
      "9       Ford  2010     2\n",
      "10    Toyota  2010     4\n"
     ]
    }
   ],
   "source": [
    "import pandas as pd\n",
    "car_selling_data ={'Brand':['Maruti','Maruti','Maruti','Maruti','Hyundai','Hyundai','Toyota','Mahindra','Mahindra','Ford','Toyota','Ford'],\n",
    "'Year':[2010, 2011, 2009, 2013, 2010, 2011, 2011, 2010, 2013, 2010, 2010, 2011],\n",
    "'Sold':[6, 7, 9, 8, 3, 5,2, 8, 7, 2, 4, 2]}\n",
    "\n",
    "df = pd. DataFrame(car_selling_data)\n",
    "print(\"\\nOriginal DataFrame:\\n\",df)\n",
    "\n",
    "grouped = df.groupby('Year')\n",
    "print(\"\\nGroup by year 2010:\\n\",grouped.get_group(2010))"
   ]
  },
  {
   "cell_type": "code",
   "execution_count": null,
   "id": "752d9683-1432-4f63-bbbf-db84ef08ba74",
   "metadata": {},
   "outputs": [],
   "source": []
  }
 ],
 "metadata": {
  "kernelspec": {
   "display_name": "Python 3 (ipykernel)",
   "language": "python",
   "name": "python3"
  },
  "language_info": {
   "codemirror_mode": {
    "name": "ipython",
    "version": 3
   },
   "file_extension": ".py",
   "mimetype": "text/x-python",
   "name": "python",
   "nbconvert_exporter": "python",
   "pygments_lexer": "ipython3",
   "version": "3.12.7"
  }
 },
 "nbformat": 4,
 "nbformat_minor": 5
}
