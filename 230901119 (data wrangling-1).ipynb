{
 "cells": [
  {
   "cell_type": "code",
   "execution_count": 5,
   "id": "f5a76103-0f6e-4132-8db0-92462d7ebc15",
   "metadata": {},
   "outputs": [],
   "source": [
    "import pandas as pd\n",
    "d1={\"name\":[\"Sai\",\"sub\",\"poo\"],\"age\":[20,21,22]}\n",
    "d2={\"qualified\":[True,True,False]}                                                                                                                                                                                                                                   "
   ]
  },
  {
   "cell_type": "code",
   "execution_count": 6,
   "id": "02ebf2c4-e471-42f4-92eb-4bb309da0bc1",
   "metadata": {},
   "outputs": [
    {
     "name": "stdout",
     "output_type": "stream",
     "text": [
      "  name  age\n",
      "0  Sai   20\n",
      "1  sub   21\n",
      "2  poo   22 \n",
      "\n",
      "   qualified\n",
      "0       True\n",
      "1       True\n",
      "2      False \n",
      "\n",
      "  name  age  qualified\n",
      "0  Sai   20       True\n",
      "1  sub   21       True\n",
      "2  poo   22      False\n"
     ]
    }
   ],
   "source": [
    "df1=pd.DataFrame(d1)\n",
    "print(df1,\"\\n\")\n",
    "df2=pd.DataFrame(d2)\n",
    "print(df2,\"\\n\")\n",
    "newdf=df1.join(df2)\n",
    "print(newdf)"
   ]
  },
  {
   "cell_type": "code",
   "execution_count": 7,
   "id": "a0304198-1030-40b3-b647-5af9dd0c348d",
   "metadata": {},
   "outputs": [],
   "source": [
    "d1={\"name\":[\"sai\",\"rishi\",\"thara\"],\"age\":[20,21,22]}\n",
    "d2={\"name\":[\"yuvi\",\"rithi\",\"sanjay\"],\"age\":[20,21,22]}"
   ]
  },
  {
   "cell_type": "code",
   "execution_count": 8,
   "id": "913e5753-bd75-41a1-b022-c85a35b6066a",
   "metadata": {},
   "outputs": [
    {
     "name": "stdout",
     "output_type": "stream",
     "text": [
      "    name  age\n",
      "0    sai   20\n",
      "1  rishi   21\n",
      "2  thara   22 \n",
      "\n",
      "     name  age\n",
      "0    yuvi   20\n",
      "1   rithi   21\n",
      "2  sanjay   22 \n",
      "\n",
      "   name_x  age name_y\n",
      "0    yuvi   20    sai\n",
      "1   rithi   21  rishi\n",
      "2  sanjay   22  thara \n",
      "\n",
      "  name_x  age  name_y\n",
      "0    sai   20    yuvi\n",
      "1  rishi   21   rithi\n",
      "2  thara   22  sanjay \n",
      "\n"
     ]
    }
   ],
   "source": [
    "df1=pd.DataFrame(d1)\n",
    "print(df1,\"\\n\")\n",
    "df2=pd.DataFrame(d2)\n",
    "print(df2,\"\\n\")\n",
    "newdf1=(df2.merge(df1,on=\"age\"))\n",
    "newdf2=(df1.merge(df2,on=\"age\"))\n",
    "print(newdf1,\"\\n\")\n",
    "print(newdf2,\"\\n\")"
   ]
  },
  {
   "cell_type": "code",
   "execution_count": 13,
   "id": "eb75a030-d687-46f9-b60e-acbcb6b01756",
   "metadata": {},
   "outputs": [
    {
     "name": "stdout",
     "output_type": "stream",
     "text": [
      "  team  points  assists  rebounds\n",
      "0    A      90       12        56\n",
      "1    B      56       34        43\n",
      "2    C      78       23        55\n",
      "3    D      88       44        12\n",
      "\n",
      "Reshaped DataFrame\n",
      "    team  variable  value\n",
      "0     A    points     90\n",
      "1     B    points     56\n",
      "2     C    points     78\n",
      "3     D    points     88\n",
      "4     A   assists     12\n",
      "5     B   assists     34\n",
      "6     C   assists     23\n",
      "7     D   assists     44\n",
      "8     A  rebounds     56\n",
      "9     B  rebounds     43\n",
      "10    C  rebounds     55\n",
      "11    D  rebounds     12\n"
     ]
    }
   ],
   "source": [
    "df=pd.DataFrame({'team':['A','B','C','D'],'points':[90,56,78,88],'assists':[12,34,23,44],'rebounds':[56,43,55,12]})\n",
    "print(df)\n",
    "df=pd.melt(df,id_vars='team',value_vars=['points','assists','rebounds'])\n",
    "print(\"\\nReshaped DataFrame\\n\",df)"
   ]
  },
  {
   "cell_type": "code",
   "execution_count": null,
   "id": "cf2c9c8e-2b5b-4528-9e24-4e3961111b65",
   "metadata": {},
   "outputs": [],
   "source": []
  }
 ],
 "metadata": {
  "kernelspec": {
   "display_name": "Python 3 (ipykernel)",
   "language": "python",
   "name": "python3"
  },
  "language_info": {
   "codemirror_mode": {
    "name": "ipython",
    "version": 3
   },
   "file_extension": ".py",
   "mimetype": "text/x-python",
   "name": "python",
   "nbconvert_exporter": "python",
   "pygments_lexer": "ipython3",
   "version": "3.12.7"
  }
 },
 "nbformat": 4,
 "nbformat_minor": 5
}
