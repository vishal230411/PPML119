{
 "cells": [
  {
   "cell_type": "code",
   "execution_count": 3,
   "id": "67274961",
   "metadata": {
    "scrolled": true
   },
   "outputs": [
    {
     "name": "stdout",
     "output_type": "stream",
     "text": [
      "Original Dataframe with NaN\n",
      "         one       two     three\n",
      "a  0.053722  0.639064  0.993850\n",
      "b       NaN       NaN       NaN\n",
      "c  0.757973  0.322868  0.235859\n",
      "d  0.738923  0.337562  0.541773\n",
      "e       NaN       NaN       NaN\n",
      "f  0.729204  0.366114  0.727562\n",
      "\n",
      "\n",
      "Dropped DataFrame\n",
      "         one       two     three\n",
      "a  0.053722  0.639064  0.993850\n",
      "c  0.757973  0.322868  0.235859\n",
      "d  0.738923  0.337562  0.541773\n",
      "f  0.729204  0.366114  0.727562\n",
      "\n",
      "\n"
     ]
    }
   ],
   "source": [
    "import pandas as pd\n",
    "import numpy as np\n",
    "df=pd.DataFrame(np.random.rand(4,3),index=['a','c','d','f'],columns=['one','two','three'])\n",
    "df=df.reindex(['a','b','c','d','e','f'])\n",
    "print(\"Original Dataframe with NaN\\n\",df)\n",
    "print(\"\\n\")\n",
    "print(\"Dropped DataFrame\\n\",df.dropna())\n",
    "print(\"\\n\")"
   ]
  },
  {
   "cell_type": "code",
   "execution_count": 5,
   "id": "dedc89c5",
   "metadata": {},
   "outputs": [
    {
     "name": "stdout",
     "output_type": "stream",
     "text": [
      "Original Dataframe:\n",
      "         one       two     three\n",
      "a  0.247289  0.786620  0.601543\n",
      "b       NaN       NaN       NaN\n",
      "c  0.775961  0.661943  0.824062\n",
      "\n",
      "\n",
      "NaN replaced with '0':\n",
      "         one       two     three\n",
      "a  0.247289  0.786620  0.601543\n",
      "b  0.000000  0.000000  0.000000\n",
      "c  0.775961  0.661943  0.824062\n",
      "\n",
      "\n"
     ]
    }
   ],
   "source": [
    "import pandas as pd\n",
    "import numpy as np\n",
    "df=pd.DataFrame(np.random.rand(4,3),index=['a','c','d','f'],columns=['one','two','three'])\n",
    "df=df.reindex(['a','b','c'])\n",
    "print(\"Original Dataframe:\\n\",df)\n",
    "print(\"\\n\")\n",
    "print(\"NaN replaced with '0':\\n\",df.fillna(0))\n",
    "print(\"\\n\")"
   ]
  },
  {
   "cell_type": "code",
   "execution_count": 6,
   "id": "1e5dea99",
   "metadata": {},
   "outputs": [
    {
     "name": "stdout",
     "output_type": "stream",
     "text": [
      "Original DataFrame:\n",
      "    one  two\n",
      "0   10   60\n",
      "1   20   70\n",
      "2   80   80\n",
      "3   40    0\n",
      "4   50   10\n",
      "\n",
      " DataFrame with replaced values:\n",
      "\n",
      "   one  two\n",
      "0    5   60\n",
      "1   20   70\n",
      "2    3    3\n",
      "3   40    0\n",
      "4   50    5\n"
     ]
    }
   ],
   "source": [
    "df=pd.DataFrame({'one':[10,20,80,40,50],'two':[60,70,80,0,10]})\n",
    "print(\"Original DataFrame:\\n\",df)\n",
    "print(\"\\n DataFrame with replaced values:\\n\")\n",
    "print(df.replace({10:5,80:3}))"
   ]
  },
  {
   "cell_type": "code",
   "execution_count": 11,
   "id": "8f1e2d60",
   "metadata": {},
   "outputs": [
    {
     "name": "stdout",
     "output_type": "stream",
     "text": [
      "Original DataFrame:\n",
      "         One       two     three\n",
      "a  1.421734 -1.351939  0.624721\n",
      "b       NaN       NaN       NaN\n",
      "c  0.198130  0.936508  0.119067\n",
      "d  0.346215 -1.500351 -1.014110\n",
      "e       NaN       NaN       NaN\n",
      "f  0.732242  1.882778 -0.793317\n",
      "\n",
      " NaN-with True fill:\n",
      "\n",
      "a    False\n",
      "b     True\n",
      "c    False\n",
      "d    False\n",
      "e     True\n",
      "f    False\n",
      "Name: One, dtype: bool\n"
     ]
    }
   ],
   "source": [
    "import pandas as pd\n",
    "import numpy as np\n",
    "df=pd.DataFrame(np.random.randn(4,3),index=['a','c','d','f'],columns=['One','two','three'])\n",
    "df=df.reindex(['a','b','c','d','e','f'])\n",
    "print(\"Original DataFrame:\\n\",df)\n",
    "print(\"\\n NaN-with True fill:\\n\")\n",
    "print(df['One'].isnull())"
   ]
  },
  {
   "cell_type": "code",
   "execution_count": 12,
   "id": "285e8c6f",
   "metadata": {},
   "outputs": [
    {
     "name": "stdout",
     "output_type": "stream",
     "text": [
      "\n",
      " NaN-filled with Background values:\n",
      "\n",
      "        One       two     three\n",
      "a  1.421734 -1.351939  0.624721\n",
      "b  0.198130  0.936508  0.119067\n",
      "c  0.198130  0.936508  0.119067\n",
      "d  0.346215 -1.500351 -1.014110\n",
      "e  0.732242  1.882778 -0.793317\n",
      "f  0.732242  1.882778 -0.793317\n"
     ]
    }
   ],
   "source": [
    "print(\"\\n NaN-filled with Background values:\\n\")\n",
    "print(df.fillna(method='bfill'))"
   ]
  },
  {
   "cell_type": "code",
   "execution_count": null,
   "id": "fd8e13b8",
   "metadata": {},
   "outputs": [],
   "source": []
  }
 ],
 "metadata": {
  "kernelspec": {
   "display_name": "Python 3 (ipykernel)",
   "language": "python",
   "name": "python3"
  },
  "language_info": {
   "codemirror_mode": {
    "name": "ipython",
    "version": 3
   },
   "file_extension": ".py",
   "mimetype": "text/x-python",
   "name": "python",
   "nbconvert_exporter": "python",
   "pygments_lexer": "ipython3",
   "version": "3.11.5"
  }
 },
 "nbformat": 4,
 "nbformat_minor": 5
}
