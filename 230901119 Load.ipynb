{
 "cells": [
  {
   "cell_type": "code",
   "execution_count": 5,
   "id": "9fe3a91c-bbc7-4e7e-a396-19a6a5569423",
   "metadata": {},
   "outputs": [
    {
     "name": "stdout",
     "output_type": "stream",
     "text": [
      "    Emp ID Name Prefix First Name Middle Initial Last Name Gender  \\\n",
      "0   677509        Drs.       Lois              H    Walker      F   \n",
      "1   940761         Ms.     Brenda              S  Robinson      F   \n",
      "2   428945         Dr.        Joe              W  Robinson      M   \n",
      "3   408351        Drs.      Diane              I     Evans      F   \n",
      "4   193819         Mr.   Benjamin              R   Russell      M   \n",
      "..     ...         ...        ...            ...       ...    ...   \n",
      "95  639892         Mr.       Jose              K      Hill      M   \n",
      "96  704709         Dr.     Harold              Z    Nelson      M   \n",
      "97  461593         Ms.     Nicole              O      Ward      F   \n",
      "98  392491        Mrs.    Theresa              R    Murphy      F   \n",
      "99  495141        Drs.      Tammy              B     Young      F   \n",
      "\n",
      "                          E Mail     Father's Name       Mother's Name  \\\n",
      "0        lois.walker@hotmail.com     Donald Walker        Helen Walker   \n",
      "1      brenda.robinson@gmail.com  Raymond Robinson       Judy Robinson   \n",
      "2         joe.robinson@gmail.com    Scott Robinson  Stephanie Robinson   \n",
      "3          diane.evans@yahoo.com       Jason Evans      Michelle Evans   \n",
      "4   benjamin.russell@charter.net   Gregory Russell   Elizabeth Russell   \n",
      "..                           ...               ...                 ...   \n",
      "95         jose.hill@hotmail.com       Carlos Hill           Anna Hill   \n",
      "96       harold.nelson@gmail.com    Richard Nelson       Pamela Nelson   \n",
      "97         nicole.ward@yahoo.com        Ralph Ward          Julia Ward   \n",
      "98      theresa.murphy@gmail.com     George Murphy   Jacqueline Murphy   \n",
      "99       tammy.young@comcast.net      Andrew Young        Brenda Young   \n",
      "\n",
      "   Mother's Maiden Name  Salary  \n",
      "0                 Lewis  168251  \n",
      "1                 Perry   51063  \n",
      "2                Taylor   50155  \n",
      "3                 Allen  180294  \n",
      "4                Nelson  117642  \n",
      "..                  ...     ...  \n",
      "95                Hayes  129774  \n",
      "96                Smith  156194  \n",
      "97                  Lee   95673  \n",
      "98             Peterson   51015  \n",
      "99             Robinson   93650  \n",
      "\n",
      "[100 rows x 11 columns]\n"
     ]
    }
   ],
   "source": [
    "import pandas as pd \n",
    "d=pd.read_csv(\"/Users/student/Downloads/employees details (1).csv\")\n",
    "print(d)"
   ]
  },
  {
   "cell_type": "code",
   "execution_count": 6,
   "id": "0066dd6e-8494-4f57-9034-822b72acbb91",
   "metadata": {},
   "outputs": [
    {
     "name": "stdout",
     "output_type": "stream",
     "text": [
      "Columns Index(['Emp ID', 'Name Prefix', 'First Name', 'Middle Initial', 'Last Name',\n",
      "       'Gender', 'E Mail', 'Father's Name', 'Mother's Name',\n",
      "       'Mother's Maiden Name', 'Salary'],\n",
      "      dtype='object')\n",
      "(100, 11)\n"
     ]
    }
   ],
   "source": [
    "df=pd.DataFrame(d)\n",
    "print(\"Columns\",df.columns)\n",
    "print(df.shape)"
   ]
  },
  {
   "cell_type": "code",
   "execution_count": 11,
   "id": "bbb3807f-2a8a-456a-86a3-bf3421cd529b",
   "metadata": {},
   "outputs": [
    {
     "name": "stdout",
     "output_type": "stream",
     "text": [
      "Salary 0     168251\n",
      "1      51063\n",
      "2      50155\n",
      "3     180294\n",
      "4     117642\n",
      "       ...  \n",
      "95    129774\n",
      "96    156194\n",
      "97     95673\n",
      "98     51015\n",
      "99     93650\n",
      "Name: Salary, Length: 100, dtype: int64\n"
     ]
    }
   ],
   "source": [
    "print(\"Salary\",df['Salary'])"
   ]
  },
  {
   "cell_type": "code",
   "execution_count": 12,
   "id": "da0d220c-810a-43a2-9b05-95f023a3d6a1",
   "metadata": {},
   "outputs": [
    {
     "name": "stdout",
     "output_type": "stream",
     "text": [
      "   Emp ID Name Prefix First Name Middle Initial Last Name Gender  \\\n",
      "5  499687         Mr.    Patrick              F    Bailey      M   \n",
      "6  539712         Ms.      Nancy              T     Baker      F   \n",
      "7  380086        Mrs.      Carol              V    Murphy      F   \n",
      "8  477616        Hon.    Frances              B     Young      F   \n",
      "\n",
      "                    E Mail  Father's Name     Mother's Name  \\\n",
      "5   patrick.bailey@aol.com   Ralph Bailey      Laura Bailey   \n",
      "6       nancy.baker@bp.com    Scott Baker        Judy Baker   \n",
      "7   carol.murphy@gmail.com  Eugene Murphy  Katherine Murphy   \n",
      "8  frances.young@gmail.com     Fred Young     Lillian Young   \n",
      "\n",
      "  Mother's Maiden Name  Salary  \n",
      "5            Henderson   72305  \n",
      "6               Thomas   98189  \n",
      "7             Peterson   60918  \n",
      "8                 Diaz  121587  \n"
     ]
    }
   ],
   "source": [
    "print(df[5:9])"
   ]
  },
  {
   "cell_type": "code",
   "execution_count": 13,
   "id": "82a99708-bca7-4898-8532-c4cd18601425",
   "metadata": {},
   "outputs": [
    {
     "name": "stdout",
     "output_type": "stream",
     "text": [
      "particular person detail: Emp ID                                  231469\n",
      "Name Prefix                                Mr.\n",
      "First Name                               Ralph\n",
      "Middle Initial                               L\n",
      "Last Name                               Flores\n",
      "Gender                                       M\n",
      "E Mail                  ralph.flores@yahoo.com\n",
      "Father's Name                     Terry Flores\n",
      "Mother's Name                  Michelle Flores\n",
      "Mother's Maiden Name                     Moore\n",
      "Salary                                  118457\n",
      "Name: 10, dtype: object\n"
     ]
    }
   ],
   "source": [
    "print(\"particular person detail:\",df.loc[10])"
   ]
  },
  {
   "cell_type": "code",
   "execution_count": 14,
   "id": "0c30b798-de6d-438b-b7c4-9d1c744aa6aa",
   "metadata": {},
   "outputs": [
    {
     "name": "stdout",
     "output_type": "stream",
     "text": [
      "    Emp ID Name Prefix First Name Middle Initial Last Name Gender  \\\n",
      "19  622406         Mr.     Thomas              Q     Lewis      M   \n",
      "\n",
      "                    E Mail Father's Name Mother's Name Mother's Maiden Name  \\\n",
      "19  thomas.lewis@gmail.com    Ryan Lewis    Lois Lewis                Price   \n",
      "\n",
      "    Salary  \n",
      "19   73862  \n"
     ]
    }
   ],
   "source": [
    "print(d.loc[d['Salary']==73862])"
   ]
  },
  {
   "cell_type": "code",
   "execution_count": 15,
   "id": "b349f932-e65f-4b94-bb9e-e69e1e0f27d5",
   "metadata": {},
   "outputs": [
    {
     "name": "stdout",
     "output_type": "stream",
     "text": [
      "0     168.419419\n",
      "1      51.114114\n",
      "2      50.205205\n",
      "3     180.474474\n",
      "4     117.759760\n",
      "         ...    \n",
      "95    129.903904\n",
      "96    156.350350\n",
      "97     95.768769\n",
      "98     51.066066\n",
      "99     93.743744\n",
      "Name: Salary, Length: 100, dtype: float64\n"
     ]
    }
   ],
   "source": [
    "df=d['Salary']/999\n",
    "print(df)"
   ]
  },
  {
   "cell_type": "code",
   "execution_count": null,
   "id": "65799e2b-75d1-4345-a511-5a85ddd0cb15",
   "metadata": {},
   "outputs": [],
   "source": []
  }
 ],
 "metadata": {
  "kernelspec": {
   "display_name": "Python 3 (ipykernel)",
   "language": "python",
   "name": "python3"
  },
  "language_info": {
   "codemirror_mode": {
    "name": "ipython",
    "version": 3
   },
   "file_extension": ".py",
   "mimetype": "text/x-python",
   "name": "python",
   "nbconvert_exporter": "python",
   "pygments_lexer": "ipython3",
   "version": "3.12.7"
  }
 },
 "nbformat": 4,
 "nbformat_minor": 5
}
