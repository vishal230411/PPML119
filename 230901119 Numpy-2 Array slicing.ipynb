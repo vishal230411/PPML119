{
 "cells": [
  {
   "cell_type": "code",
   "execution_count": 3,
   "id": "22722a05",
   "metadata": {},
   "outputs": [
    {
     "name": "stdout",
     "output_type": "stream",
     "text": [
      "[3 4 5 6]\n",
      "[1 3 5 7 9]\n"
     ]
    }
   ],
   "source": [
    "import numpy as np\n",
    "arr=np.array([1,2,3,4,5,6,7,8,9])\n",
    "slice1=arr[2:6]\n",
    "print(slice1)\n",
    "slice2=arr[::2]\n",
    "print(slice2)"
   ]
  },
  {
   "cell_type": "code",
   "execution_count": 5,
   "id": "1efd3d08",
   "metadata": {},
   "outputs": [
    {
     "name": "stdout",
     "output_type": "stream",
     "text": [
      "[9 8 7 6 5 4 3 2 1]\n"
     ]
    }
   ],
   "source": [
    "rev_arr=arr[::-1]\n",
    "print(rev_arr)"
   ]
  },
  {
   "cell_type": "code",
   "execution_count": 6,
   "id": "e51e3577",
   "metadata": {},
   "outputs": [
    {
     "name": "stdout",
     "output_type": "stream",
     "text": [
      "[[ 1  2  3  4]\n",
      " [ 9 10 11 12]]\n",
      "[[ 1  2  3  4]\n",
      " [ 9 10 11 12]]\n",
      "[[ 5  6  7  8]\n",
      " [ 9 10 11 12]]\n",
      "[[11 12]]\n",
      "[ 3  7 11]\n"
     ]
    }
   ],
   "source": [
    "a=np.array([[1,2,3,4],[5,6,7,8],[9,10,11,12]])\n",
    "print(a[0:3:2])\n",
    "print(a[0::2])\n",
    "print(a[1::])\n",
    "print(a[2:,2:])\n",
    "print(a[:,2])"
   ]
  },
  {
   "cell_type": "code",
   "execution_count": 1,
   "id": "32c21778",
   "metadata": {},
   "outputs": [
    {
     "name": "stdout",
     "output_type": "stream",
     "text": [
      "[[2 3]\n",
      " [5 6]]\n"
     ]
    }
   ],
   "source": [
    "import numpy as np\n",
    "arr=np.array([[1,2,3],[4,5,6],[7,8,9]])\n",
    "subarray=arr[0:2,1:3]\n",
    "print(subarray)"
   ]
  },
  {
   "cell_type": "code",
   "execution_count": 2,
   "id": "5a5e0d96",
   "metadata": {},
   "outputs": [
    {
     "name": "stdout",
     "output_type": "stream",
     "text": [
      "[[7 8 9]\n",
      " [4 5 6]\n",
      " [1 2 3]]\n"
     ]
    }
   ],
   "source": [
    "Reversed_array=arr[::-1]\n",
    "print(Reversed_array)"
   ]
  },
  {
   "cell_type": "code",
   "execution_count": 3,
   "id": "50389f38",
   "metadata": {},
   "outputs": [
    {
     "name": "stdout",
     "output_type": "stream",
     "text": [
      "[1 4 7]\n"
     ]
    }
   ],
   "source": [
    "col1=arr[:,0]\n",
    "print(col1)"
   ]
  },
  {
   "cell_type": "code",
   "execution_count": 4,
   "id": "0bc07717",
   "metadata": {},
   "outputs": [
    {
     "name": "stdout",
     "output_type": "stream",
     "text": [
      "[1 2 3]\n"
     ]
    }
   ],
   "source": [
    "row1=arr[0,:]\n",
    "print(row1)"
   ]
  },
  {
   "cell_type": "code",
   "execution_count": null,
   "id": "32b08ef8",
   "metadata": {},
   "outputs": [],
   "source": []
  }
 ],
 "metadata": {
  "kernelspec": {
   "display_name": "Python 3 (ipykernel)",
   "language": "python",
   "name": "python3"
  },
  "language_info": {
   "codemirror_mode": {
    "name": "ipython",
    "version": 3
   },
   "file_extension": ".py",
   "mimetype": "text/x-python",
   "name": "python",
   "nbconvert_exporter": "python",
   "pygments_lexer": "ipython3",
   "version": "3.11.5"
  }
 },
 "nbformat": 4,
 "nbformat_minor": 5
}
