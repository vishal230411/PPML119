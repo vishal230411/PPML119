{
 "cells": [
  {
   "cell_type": "code",
   "execution_count": 1,
   "id": "52a5f9cd",
   "metadata": {},
   "outputs": [
    {
     "name": "stdout",
     "output_type": "stream",
     "text": [
      "\n",
      " DataFrame,Assign Function:\n",
      " \n",
      "\n",
      " Original DataFrame:\n",
      "           0   1\n",
      "0   crimson  88\n",
      "1  kingslin  70\n",
      "\n",
      " Adding new column:\n",
      "           0   1  Age\n",
      "0   crimson  88   20\n",
      "1  kingslin  70   18\n"
     ]
    },
    {
     "ename": "AttributeError",
     "evalue": "'DataFrame' object has no attribute 'Assign'",
     "output_type": "error",
     "traceback": [
      "\u001b[0;31m---------------------------------------------------------------------------\u001b[0m",
      "\u001b[0;31mAttributeError\u001b[0m                            Traceback (most recent call last)",
      "\u001b[0;32m/var/folders/tc/dv6yw86n4y7cf10034p_dzsw0000gp/T/ipykernel_1634/3228698073.py\u001b[0m in \u001b[0;36m?\u001b[0;34m()\u001b[0m\n\u001b[1;32m      4\u001b[0m \u001b[0mcolumns\u001b[0m\u001b[0;34m=\u001b[0m\u001b[0;34m(\u001b[0m\u001b[0;34m[\u001b[0m\u001b[0;34m'Emp'\u001b[0m\u001b[0;34m,\u001b[0m\u001b[0;34m'ID'\u001b[0m\u001b[0;34m]\u001b[0m\u001b[0;34m)\u001b[0m\u001b[0;34m\u001b[0m\u001b[0;34m\u001b[0m\u001b[0m\n\u001b[1;32m      5\u001b[0m \u001b[0mprint\u001b[0m\u001b[0;34m(\u001b[0m\u001b[0;34m\"\\n Original DataFrame:\\n\"\u001b[0m\u001b[0;34m,\u001b[0m\u001b[0md2\u001b[0m\u001b[0;34m)\u001b[0m\u001b[0;34m\u001b[0m\u001b[0;34m\u001b[0m\u001b[0m\n\u001b[1;32m      6\u001b[0m \u001b[0md2\u001b[0m\u001b[0;34m[\u001b[0m\u001b[0;34m'Age'\u001b[0m\u001b[0;34m]\u001b[0m\u001b[0;34m=\u001b[0m\u001b[0;34m[\u001b[0m\u001b[0;36m20\u001b[0m\u001b[0;34m,\u001b[0m\u001b[0;36m18\u001b[0m\u001b[0;34m]\u001b[0m\u001b[0;34m\u001b[0m\u001b[0;34m\u001b[0m\u001b[0m\n\u001b[1;32m      7\u001b[0m \u001b[0mprint\u001b[0m\u001b[0;34m(\u001b[0m\u001b[0;34m\"\\n Adding new column:\\n\"\u001b[0m\u001b[0;34m,\u001b[0m\u001b[0md2\u001b[0m\u001b[0;34m)\u001b[0m\u001b[0;34m\u001b[0m\u001b[0;34m\u001b[0m\u001b[0m\n\u001b[0;32m----> 8\u001b[0;31m \u001b[0md\u001b[0m\u001b[0;34m=\u001b[0m\u001b[0md2\u001b[0m\u001b[0;34m.\u001b[0m\u001b[0mAssign\u001b[0m\u001b[0;34m(\u001b[0m\u001b[0mSex\u001b[0m\u001b[0;34m=\u001b[0m\u001b[0;34m[\u001b[0m\u001b[0;34m'Male'\u001b[0m\u001b[0;34m,\u001b[0m\u001b[0;34m'Male'\u001b[0m\u001b[0;34m]\u001b[0m\u001b[0;34m)\u001b[0m\u001b[0;34m\u001b[0m\u001b[0;34m\u001b[0m\u001b[0m\n\u001b[0m\u001b[1;32m      9\u001b[0m \u001b[0mprint\u001b[0m\u001b[0;34m(\u001b[0m\u001b[0;34m\"\\n Adding new column:\\n\"\u001b[0m\u001b[0;34m,\u001b[0m\u001b[0md\u001b[0m\u001b[0;34m)\u001b[0m\u001b[0;34m\u001b[0m\u001b[0;34m\u001b[0m\u001b[0m\n",
      "\u001b[0;32m~/anaconda3/lib/python3.11/site-packages/pandas/core/generic.py\u001b[0m in \u001b[0;36m?\u001b[0;34m(self, name)\u001b[0m\n\u001b[1;32m   5985\u001b[0m             \u001b[0;32mand\u001b[0m \u001b[0mname\u001b[0m \u001b[0;32mnot\u001b[0m \u001b[0;32min\u001b[0m \u001b[0mself\u001b[0m\u001b[0;34m.\u001b[0m\u001b[0m_accessors\u001b[0m\u001b[0;34m\u001b[0m\u001b[0;34m\u001b[0m\u001b[0m\n\u001b[1;32m   5986\u001b[0m             \u001b[0;32mand\u001b[0m \u001b[0mself\u001b[0m\u001b[0;34m.\u001b[0m\u001b[0m_info_axis\u001b[0m\u001b[0;34m.\u001b[0m\u001b[0m_can_hold_identifiers_and_holds_name\u001b[0m\u001b[0;34m(\u001b[0m\u001b[0mname\u001b[0m\u001b[0;34m)\u001b[0m\u001b[0;34m\u001b[0m\u001b[0;34m\u001b[0m\u001b[0m\n\u001b[1;32m   5987\u001b[0m         ):\n\u001b[1;32m   5988\u001b[0m             \u001b[0;32mreturn\u001b[0m \u001b[0mself\u001b[0m\u001b[0;34m[\u001b[0m\u001b[0mname\u001b[0m\u001b[0;34m]\u001b[0m\u001b[0;34m\u001b[0m\u001b[0;34m\u001b[0m\u001b[0m\n\u001b[0;32m-> 5989\u001b[0;31m         \u001b[0;32mreturn\u001b[0m \u001b[0mobject\u001b[0m\u001b[0;34m.\u001b[0m\u001b[0m__getattribute__\u001b[0m\u001b[0;34m(\u001b[0m\u001b[0mself\u001b[0m\u001b[0;34m,\u001b[0m \u001b[0mname\u001b[0m\u001b[0;34m)\u001b[0m\u001b[0;34m\u001b[0m\u001b[0;34m\u001b[0m\u001b[0m\n\u001b[0m",
      "\u001b[0;31mAttributeError\u001b[0m: 'DataFrame' object has no attribute 'Assign'"
     ]
    }
   ],
   "source": [
    "import pandas as pd\n",
    "print(\"\\n DataFrame,Assign Function:\\n \")\n",
    "d2=pd.DataFrame([['crimson',88],['kingslin',70]])\n",
    "columns=(['Emp','ID'])\n",
    "print(\"\\n Original DataFrame:\\n\",d2)\n",
    "d2['Age']=[20,18]\n",
    "print(\"\\n Adding new column:\\n\",d2)\n",
    "d=d2.Assign(Sex=['Male','Male'])\n",
    "print(\"\\n Adding new column:\\n\",d)"
   ]
  },
  {
   "cell_type": "code",
   "execution_count": 2,
   "id": "99ee2cd5",
   "metadata": {},
   "outputs": [
    {
     "name": "stdout",
     "output_type": "stream",
     "text": [
      "DataFrame.applyfunction:\n",
      "\n",
      "\n",
      " original DataFrame:\n",
      "    s  R\n",
      "0  3  9\n",
      "1  3  9\n",
      "2  3  9\n",
      "3  3  9\n",
      "\n",
      " Squareroot of DataFrame:\n",
      "           s    R\n",
      "0  1.732051  3.0\n",
      "1  1.732051  3.0\n",
      "2  1.732051  3.0\n",
      "3  1.732051  3.0\n",
      "\n",
      " Sum of each column:\n",
      " s    12\n",
      "R    36\n",
      "dtype: int64\n",
      "\n",
      " Sum of each row:\n",
      " 0    12\n",
      "1    12\n",
      "2    12\n",
      "3    12\n",
      "dtype: int64\n"
     ]
    }
   ],
   "source": [
    "import pandas as pd\n",
    "import numpy as np\n",
    "print(\"DataFrame.applyfunction:\\n\")\n",
    "info=pd.DataFrame([[3,9]]*4,columns=['s','R'])\n",
    "print(\"\\n original DataFrame:\\n\",info)\n",
    "print(\"\\n Squareroot of DataFrame:\\n\",info.apply(np.sqrt))\n",
    "print(\"\\n Sum of each column:\\n\",info.apply(np.sum,axis=0))\n",
    "print(\"\\n Sum of each row:\\n\",info.apply(np.sum,axis=1))"
   ]
  },
  {
   "cell_type": "code",
   "execution_count": 3,
   "id": "106dce14",
   "metadata": {},
   "outputs": [
    {
     "name": "stdout",
     "output_type": "stream",
     "text": [
      "\n",
      " original DataFrame:\n",
      "    x  y  z\n",
      "0  2  4  6\n",
      "1  1  3  5\n",
      "2  5  8  7\n",
      "\n",
      " minimum and maximum of each column:\n",
      "\n",
      "     x  y  z\n",
      "min  1  3  5\n",
      "max  5  8  7\n"
     ]
    }
   ],
   "source": [
    "info=pd.DataFrame([[2,4,6],[1,3,5],[5,8,7]],columns=['x','y','z'])\n",
    "print(\"\\n original DataFrame:\\n\",info)\n",
    "print(\"\\n minimum and maximum of each column:\\n\")\n",
    "print(info.agg(['min','max']))"
   ]
  },
  {
   "cell_type": "code",
   "execution_count": 6,
   "id": "b1b198da",
   "metadata": {},
   "outputs": [
    {
     "name": "stdout",
     "output_type": "stream",
     "text": [
      "\n",
      " Data Frame sort function:\n",
      "\n",
      "          A         B\n",
      "3  0.375714  0.925225\n",
      "2  2.007803 -0.114126\n",
      "0 -0.344504 -0.345726\n",
      "4  1.551877 -1.183991\n",
      "1  0.233425  0.055794\n",
      "\n",
      " Sort index:\n",
      "           A         B\n",
      "0 -0.344504 -0.345726\n",
      "1  0.233425  0.055794\n",
      "2  2.007803 -0.114126\n",
      "3  0.375714  0.925225\n",
      "4  1.551877 -1.183991\n",
      "\n",
      "Sort Values:\n",
      "           A         B\n",
      "0 -0.344504 -0.345726\n",
      "1  0.233425  0.055794\n",
      "3  0.375714  0.925225\n",
      "4  1.551877 -1.183991\n",
      "2  2.007803 -0.114126\n"
     ]
    }
   ],
   "source": [
    "print(\"\\n Data Frame sort function:\\n\")\n",
    "info=pd.DataFrame(np.random.randn(5,2),index=[3,2,0,4,1],columns=['A','B'])\n",
    "print(info)\n",
    "info2=info.sort_index()\n",
    "print(\"\\n Sort index:\\n\",info2)\n",
    "info3=info.sort_values(by='A')\n",
    "print(\"\\nSort Values:\\n\",info3)"
   ]
  },
  {
   "cell_type": "code",
   "execution_count": 13,
   "id": "4a70c898",
   "metadata": {},
   "outputs": [
    {
     "name": "stdout",
     "output_type": "stream",
     "text": [
      "\n",
      " DataFrame Merge Function:\n",
      "\n",
      "   id  Name   Sub\n",
      "0   1   Sai  Sub1\n",
      "1   2  Ravi  Sub2\n",
      "2   3   Poo  Sub4\n",
      "3   4  Yash  Sub3\n",
      "   id    Name   Sub\n",
      "0   1  Sanjay  Sub1\n",
      "1   2     Ram  Sub4\n",
      "2   3  Selvin  Sub3\n",
      "3   4    Raju  sub2\n",
      "   id Name_x Sub_x  Name_y Sub_y\n",
      "0   1    Sai  Sub1  Sanjay  Sub1\n",
      "1   2   Ravi  Sub2     Ram  Sub4\n",
      "2   3    Poo  Sub4  Selvin  Sub3\n",
      "3   4   Yash  Sub3    Raju  sub2\n"
     ]
    }
   ],
   "source": [
    "print(\"\\n DataFrame Merge Function:\\n\")\n",
    "Left=pd.DataFrame({'id':[1,2,3,4],'Name':['Sai','Ravi','Poo','Yash'],'Sub':['Sub1','Sub2','Sub4','Sub3']})\n",
    "Right=pd.DataFrame({'id':[1,2,3,4],'Name':['Sanjay','Ram','Selvin','Raju'],'Sub':['Sub1','Sub4','Sub3','sub2']})\n",
    "print(Left)\n",
    "print(Right)\n",
    "print(pd.merge(Left,Right,on='id'))"
   ]
  },
  {
   "cell_type": "code",
   "execution_count": null,
   "id": "15307b68",
   "metadata": {},
   "outputs": [],
   "source": []
  }
 ],
 "metadata": {
  "kernelspec": {
   "display_name": "Python 3 (ipykernel)",
   "language": "python",
   "name": "python3"
  },
  "language_info": {
   "codemirror_mode": {
    "name": "ipython",
    "version": 3
   },
   "file_extension": ".py",
   "mimetype": "text/x-python",
   "name": "python",
   "nbconvert_exporter": "python",
   "pygments_lexer": "ipython3",
   "version": "3.11.5"
  }
 },
 "nbformat": 4,
 "nbformat_minor": 5
}
