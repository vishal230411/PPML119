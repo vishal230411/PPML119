{
 "cells": [
  {
   "cell_type": "code",
   "execution_count": 2,
   "id": "d9e6a9fb",
   "metadata": {},
   "outputs": [],
   "source": [
    "f=open(\"/Users/student/Documents/data1.txt\",\"w\")\n",
    "f.write(\"Sai\\n\")\n",
    "f.write(\"Raj\\n\")\n",
    "f.write(\"John\\n\")\n",
    "f.close()"
   ]
  },
  {
   "cell_type": "code",
   "execution_count": 21,
   "id": "7e72473d",
   "metadata": {},
   "outputs": [
    {
     "name": "stdout",
     "output_type": "stream",
     "text": [
      "Sai\n",
      "\n",
      "Raj\n",
      "\n",
      "John\n",
      "\n"
     ]
    }
   ],
   "source": [
    "a=open(\"/Users/student/Documents/data1.txt\",\"r\")\n",
    "print(a.readlines())\n",
    "print(a.readlines())\n",
    "print(a.readlines())\n",
    "a.close()"
   ]
  },
  {
   "cell_type": "code",
   "execution_count": 9,
   "id": "67262bb5",
   "metadata": {},
   "outputs": [
    {
     "name": "stdout",
     "output_type": "stream",
     "text": [
      "Sai\n",
      "Raj\n",
      "John\n",
      "Ram\n",
      "Kumar\n",
      "\n"
     ]
    }
   ],
   "source": [
    "b=open(\"/Users/student/Documents/data1.txt\",\"a\")\n",
    "b.write(\"Ram\\n\")\n",
    "b.write(\"Kumar\\n\")\n",
    "b.close()\n",
    "c=open(\"/Users/student/Documents/data1.txt\",\"r\")\n",
    "print(c.read())\n",
    "c.close()"
   ]
  },
  {
   "cell_type": "code",
   "execution_count": 22,
   "id": "5a0c9d79",
   "metadata": {},
   "outputs": [
    {
     "name": "stdout",
     "output_type": "stream",
     "text": [
      "['Sai\\n', 'Raj\\n', 'John\\n', 'Ram\\n', 'Kumar\\n']\n"
     ]
    }
   ],
   "source": [
    "with open(\"/Users/student/Documents/data1.txt\",\"r\") as file:\n",
    "    lines=file.readlines()\n",
    "    print(lines)"
   ]
  },
  {
   "cell_type": "code",
   "execution_count": 15,
   "id": "cb022913",
   "metadata": {},
   "outputs": [
    {
     "name": "stdout",
     "output_type": "stream",
     "text": [
      "london\n"
     ]
    }
   ],
   "source": [
    "import json\n",
    "x='{\"name\":\"Raj\",\"Age\":20,\"city\":\"london\"}'\n",
    "y=json.loads(x)\n",
    "print(y[\"city\"])"
   ]
  },
  {
   "cell_type": "code",
   "execution_count": 19,
   "id": "ce1a217a",
   "metadata": {},
   "outputs": [
    {
     "name": "stdout",
     "output_type": "stream",
     "text": [
      "\"{\\\"name\\\":\\\"Raj\\\",\\\"Age\\\":20,\\\"city\\\":\\\"london\\\"}\"\n"
     ]
    }
   ],
   "source": [
    "x\n",
    "{\n",
    "    \"name\":\"Raj\",\n",
    "    \"Age\":20,\n",
    "    \"city\":\"london\"\n",
    "}\n",
    "y=json.dumps(x)\n",
    "print(y)"
   ]
  },
  {
   "cell_type": "code",
   "execution_count": null,
   "id": "7130ee74",
   "metadata": {},
   "outputs": [],
   "source": []
  },
  {
   "cell_type": "code",
   "execution_count": null,
   "id": "c184a7ed",
   "metadata": {},
   "outputs": [],
   "source": []
  }
 ],
 "metadata": {
  "kernelspec": {
   "display_name": "Python 3 (ipykernel)",
   "language": "python",
   "name": "python3"
  },
  "language_info": {
   "codemirror_mode": {
    "name": "ipython",
    "version": 3
   },
   "file_extension": ".py",
   "mimetype": "text/x-python",
   "name": "python",
   "nbconvert_exporter": "python",
   "pygments_lexer": "ipython3",
   "version": "3.11.5"
  }
 },
 "nbformat": 4,
 "nbformat_minor": 5
}
