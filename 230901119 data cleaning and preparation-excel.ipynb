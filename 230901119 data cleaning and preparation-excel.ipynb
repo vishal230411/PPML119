{
 "cells": [
  {
   "cell_type": "code",
   "execution_count": 5,
   "id": "427deb32",
   "metadata": {},
   "outputs": [
    {
     "name": "stdout",
     "output_type": "stream",
     "text": [
      "Original data:\n",
      "\n",
      "    Unnamed: 0  Emp ID  ... Mother's Maiden Name  Salary\n",
      "0            0  677509  ...                Lewis  168251\n",
      "1            1  940761  ...                Perry   51063\n",
      "2            2  428945  ...               Taylor   51063\n",
      "3            3  408351  ...                Allen  180000\n",
      "4            4  193819  ...               Nelson  117642\n",
      "5            5  499687  ...            Henderson  117642\n",
      "6            6  539712  ...               Thomas   98189\n",
      "7            7  380086  ...             Peterson   60918\n",
      "8            8  477616  ...                 Diaz  121587\n",
      "9            9  162402  ...                 Ross   43010\n",
      "10          10  231469  ...                Moore  180000\n",
      "11          11  153989  ...               Walker  180000\n",
      "12          12  386158  ...                White  166892\n",
      "13          13  301576  ...                Hayes   92758\n",
      "14          14  441771  ...               Watson   92220\n",
      "15          15  528509  ...               Powell  180000\n",
      "16          16  912990  ...                Jones  184896\n",
      "17          17  214352  ...               Turner  184896\n",
      "18          18  890290  ...                 King  141518\n",
      "\n",
      "[19 rows x 11 columns]\n"
     ]
    }
   ],
   "source": [
    "import pandas as pd\n",
    "pd.set_option('display.max_columns',4)\n",
    "print(\"Original data:\\n\")\n",
    "df=pd.read_excel(\"/Users/student/Downloads/emp data.xlsx\")\n",
    "print(df)"
   ]
  },
  {
   "cell_type": "code",
   "execution_count": 6,
   "id": "b6721b82",
   "metadata": {},
   "outputs": [
    {
     "name": "stdout",
     "output_type": "stream",
     "text": [
      "\n",
      " Replace value:\n",
      "    Unnamed: 0  Emp ID  ... Mother's Maiden Name  Salary\n",
      "0            0  677509  ...                Lewis  168251\n",
      "1            1  940761  ...                Perry   51063\n",
      "2            2  428945  ...               Taylor   51063\n",
      "3            3  408351  ...                Allen  180000\n",
      "4            4  193819  ...               Nelson  117642\n",
      "5            5  499687  ...            Henderson  117642\n",
      "6            6  539712  ...               Thomas   98189\n",
      "7            7  380086  ...             Peterson   60918\n",
      "8            8  477616  ...                 Diaz  121587\n",
      "9            9  162402  ...                 Ross   43010\n",
      "10          10  231469  ...                Moore  180000\n",
      "11          11  153989  ...               Walker  180000\n",
      "12          12  386158  ...                White  166892\n",
      "13          13  301576  ...                Hayes   92758\n",
      "14          14  441771  ...               Watson   92220\n",
      "15          15  528509  ...               Powell  180000\n",
      "16          16  912990  ...                Jones  184896\n",
      "17          17  214352  ...               Turner  184896\n",
      "18          18  890290  ...                 King  141518\n",
      "\n",
      "[19 rows x 11 columns]\n",
      "\n",
      " Update list\n",
      "\n"
     ]
    }
   ],
   "source": [
    "f=df['First Name'].str.strip()\n",
    "f.to_excel(\"/Users/student/Downloads/emp data.xlsx\")\n",
    "print(\"\\n Replace value:\")\n",
    "k=df.fillna(method='pad')\n",
    "print(k)\n",
    "print(\"\\n Update list\\n\")\n",
    "k.to_excel(\"/Users/student/Downloads/emp data.xlsx\")"
   ]
  },
  {
   "cell_type": "code",
   "execution_count": 7,
   "id": "3112cb77",
   "metadata": {},
   "outputs": [
    {
     "name": "stdout",
     "output_type": "stream",
     "text": [
      "\n",
      " Drop one particular column and its values:\n",
      "\n",
      "    Unnamed: 0  Emp ID  ... Mother's Maiden Name  Salary\n",
      "0            0  677509  ...                Lewis  168251\n",
      "1            1  940761  ...                Perry   51063\n",
      "2            2  428945  ...               Taylor   51063\n",
      "3            3  408351  ...                Allen  180000\n",
      "4            4  193819  ...               Nelson  117642\n",
      "5            5  499687  ...            Henderson  117642\n",
      "6            6  539712  ...               Thomas   98189\n",
      "7            7  380086  ...             Peterson   60918\n",
      "8            8  477616  ...                 Diaz  121587\n",
      "9            9  162402  ...                 Ross   43010\n",
      "10          10  231469  ...                Moore  180000\n",
      "11          11  153989  ...               Walker  180000\n",
      "12          12  386158  ...                White  166892\n",
      "13          13  301576  ...                Hayes   92758\n",
      "14          14  441771  ...               Watson   92220\n",
      "15          15  528509  ...               Powell  180000\n",
      "16          16  912990  ...                Jones  184896\n",
      "17          17  214352  ...               Turner  184896\n",
      "18          18  890290  ...                 King  141518\n",
      "\n",
      "[19 rows x 10 columns]\n",
      "\n",
      " Updated list\n",
      "\n"
     ]
    }
   ],
   "source": [
    "print(\"\\n Drop one particular column and its values:\\n\")\n",
    "k.drop(['Gender'],axis=1,inplace=True)\n",
    "print(k)\n",
    "print(\"\\n Updated list\\n\")\n",
    "k.to_excel(\"/Users/student/Downloads/emp data.xlsx\")"
   ]
  },
  {
   "cell_type": "code",
   "execution_count": null,
   "id": "baf3ad16",
   "metadata": {},
   "outputs": [],
   "source": []
  }
 ],
 "metadata": {
  "kernelspec": {
   "display_name": "Python 3 (ipykernel)",
   "language": "python",
   "name": "python3"
  },
  "language_info": {
   "codemirror_mode": {
    "name": "ipython",
    "version": 3
   },
   "file_extension": ".py",
   "mimetype": "text/x-python",
   "name": "python",
   "nbconvert_exporter": "python",
   "pygments_lexer": "ipython3",
   "version": "3.11.5"
  }
 },
 "nbformat": 4,
 "nbformat_minor": 5
}
