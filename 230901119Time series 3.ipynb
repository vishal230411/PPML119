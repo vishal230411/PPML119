{
 "cells": [
  {
   "cell_type": "code",
   "execution_count": 1,
   "id": "4552f258-7de4-40b8-a889-c19481d7595d",
   "metadata": {},
   "outputs": [
    {
     "name": "stdout",
     "output_type": "stream",
     "text": [
      "Date Index \n",
      " 2011-01-02    0.512430\n",
      "2011-01-05    0.245149\n",
      "2011-01-07   -0.324297\n",
      "2011-01-08   -1.379231\n",
      "2011-01-10   -1.923238\n",
      "2011-01-12    0.561794\n",
      "dtype: float64\n"
     ]
    }
   ],
   "source": [
    "import pandas as pd\n",
    "import numpy as np\n",
    "from datetime import datetime\n",
    "\n",
    "#create a date variable that contains the dates\n",
    "dates = [datetime(2011, 1, 2),\n",
    "         datetime(2011, 1, 5),\n",
    "         datetime(2011, 1, 7),\n",
    "         datetime(2011, 1, 8),\n",
    "         datetime(2011, 1, 10),\n",
    "         datetime(2011, 1, 12)]\n",
    "\n",
    "#with this date object, create a series\n",
    "ts = pd.Series(np.random.randn(6), index=dates)\n",
    "print(\"Date Index \\n\",ts)\n"
   ]
  },
  {
   "cell_type": "code",
   "execution_count": 3,
   "id": "74f94a8e-5f9c-48ce-8a0c-e8b73e4099d3",
   "metadata": {},
   "outputs": [
    {
     "name": "stdout",
     "output_type": "stream",
     "text": [
      "\n",
      "Date Index alone from the series: \n",
      " DatetimeIndex(['2011-01-02', '2011-01-05', '2011-01-07', '2011-01-08',\n",
      "               '2011-01-10', '2011-01-12'],\n",
      "              dtype='datetime64[ns]', freq=None)\n"
     ]
    }
   ],
   "source": [
    "print(\"\\nDate Index alone from the series: \\n\",ts.index)\n"
   ]
  },
  {
   "cell_type": "code",
   "execution_count": 5,
   "id": "c6d5e1aa-92c0-4751-901c-3389ab04bcd8",
   "metadata": {},
   "outputs": [
    {
     "name": "stdout",
     "output_type": "stream",
     "text": [
      "\n",
      "Second index:\n",
      " 2011-01-07 00:00:00\n"
     ]
    }
   ],
   "source": [
    "stamp=ts.index[2]\n",
    "print(\"\\nSecond index:\\n\", stamp)\n"
   ]
  },
  {
   "cell_type": "code",
   "execution_count": 7,
   "id": "7051b843-1069-4eec-882e-294c3c80a217",
   "metadata": {},
   "outputs": [
    {
     "name": "stdout",
     "output_type": "stream",
     "text": [
      "\n",
      "Daterange up to 1000 days:\n",
      " 2000-01-01   -0.477567\n",
      "2000-01-02    0.843549\n",
      "2000-01-03    1.959798\n",
      "2000-01-04    1.080572\n",
      "2000-01-05   -0.331390\n",
      "                ...   \n",
      "2002-09-22    0.816814\n",
      "2002-09-23    0.986247\n",
      "2002-09-24    0.276696\n",
      "2002-09-25    1.590256\n",
      "2002-09-26    2.139795\n",
      "Freq: D, Length: 1000, dtype: float64\n"
     ]
    }
   ],
   "source": [
    "#play like a ball with long-times series\n",
    "longer_ts=pd.Series(np.random.randn(1000),\n",
    "                    index=pd.date_range(\"2000-01-01\",periods=1000))\n",
    "print(\"\\nDaterange up to 1000 days:\\n\",longer_ts)\n"
   ]
  },
  {
   "cell_type": "code",
   "execution_count": 9,
   "id": "510fda45-2cbc-4ee4-9e20-d14481b92641",
   "metadata": {},
   "outputs": [
    {
     "name": "stdout",
     "output_type": "stream",
     "text": [
      "\n",
      "Date range-2001 year:\n",
      " 2001-01-01   -0.927325\n",
      "2001-01-02    0.533971\n",
      "2001-01-03   -0.690218\n",
      "2001-01-04   -1.601374\n",
      "2001-01-05    0.998865\n",
      "                ...   \n",
      "2001-12-27   -0.861524\n",
      "2001-12-28    1.218529\n",
      "2001-12-29    1.388550\n",
      "2001-12-30   -1.461849\n",
      "2001-12-31   -0.786045\n",
      "Freq: D, Length: 365, dtype: float64\n"
     ]
    }
   ],
   "source": [
    "print(\"\\nDate range-2001 year:\\n\", longer_ts[\"2001\"])\n"
   ]
  },
  {
   "cell_type": "code",
   "execution_count": 11,
   "id": "08a06aad-f57e-45d2-a0c0-14f81c1c6981",
   "metadata": {},
   "outputs": [
    {
     "name": "stdout",
     "output_type": "stream",
     "text": [
      "\n",
      "Date range-05 month 2001 year:\n",
      " 2001-05-01    1.037538\n",
      "2001-05-02    0.768240\n",
      "2001-05-03   -0.220878\n",
      "2001-05-04   -0.632328\n",
      "2001-05-05   -1.196159\n",
      "2001-05-06   -1.548874\n",
      "2001-05-07    0.660136\n",
      "2001-05-08   -0.858853\n",
      "2001-05-09   -0.000345\n",
      "2001-05-10   -0.100499\n",
      "2001-05-11   -0.311002\n",
      "2001-05-12   -1.327883\n",
      "2001-05-13   -1.037137\n",
      "2001-05-14   -2.191237\n",
      "2001-05-15    0.469642\n",
      "2001-05-16   -0.560003\n",
      "2001-05-17    1.146209\n",
      "2001-05-18   -1.130959\n",
      "2001-05-19   -0.871170\n",
      "2001-05-20   -1.264165\n",
      "2001-05-21    1.761263\n",
      "2001-05-22    0.740349\n",
      "2001-05-23    0.135264\n",
      "2001-05-24    0.613164\n",
      "2001-05-25    0.673239\n",
      "2001-05-26   -0.832027\n",
      "2001-05-27   -0.476616\n",
      "2001-05-28   -0.138905\n",
      "2001-05-29    1.665598\n",
      "2001-05-30    0.454142\n",
      "2001-05-31   -1.212285\n",
      "Freq: D, dtype: float64\n"
     ]
    }
   ],
   "source": [
    "print(\"\\nDate range-05 month 2001 year:\\n\", longer_ts[\"2001-05\"])\n"
   ]
  },
  {
   "cell_type": "code",
   "execution_count": 13,
   "id": "3c8fa30c-de85-49ec-bae5-8f916ec71a20",
   "metadata": {},
   "outputs": [
    {
     "name": "stdout",
     "output_type": "stream",
     "text": [
      "\n",
      "Date range-first few dates in 2000 year:\n",
      " 2000-01-01   -0.477567\n",
      "2000-01-02    0.843549\n",
      "2000-01-03    1.959798\n",
      "2000-01-04    1.080572\n",
      "2000-01-05   -0.331390\n",
      "Freq: D, dtype: float64\n"
     ]
    }
   ],
   "source": [
    "print(\"\\nDate range-first few dates in 2000 year:\\n\",longer_ts[\"2000\"].head())\n"
   ]
  },
  {
   "cell_type": "code",
   "execution_count": 15,
   "id": "a4adecf4-7c40-4c55-9936-f9530e211a6d",
   "metadata": {},
   "outputs": [
    {
     "name": "stdout",
     "output_type": "stream",
     "text": [
      "\n",
      "Date range-first 15 dates in 02 month 2001 year:\n",
      " 2000-02-01   -0.101612\n",
      "2000-02-02    0.179745\n",
      "2000-02-03   -1.434521\n",
      "2000-02-04   -0.100173\n",
      "2000-02-05    0.441937\n",
      "2000-02-06    0.865312\n",
      "2000-02-07   -0.311527\n",
      "2000-02-08   -1.257107\n",
      "2000-02-09   -1.546034\n",
      "2000-02-10    1.182280\n",
      "2000-02-11    0.941751\n",
      "2000-02-12   -0.633399\n",
      "2000-02-13   -1.371470\n",
      "2000-02-14    0.039968\n",
      "2000-02-15    1.267143\n",
      "Freq: D, dtype: float64\n"
     ]
    }
   ],
   "source": [
    "print(\"\\nDate range-first 15 dates in 02 month 2001 year:\\n\",longer_ts[\"2000-02\"].head(15))\n"
   ]
  },
  {
   "cell_type": "code",
   "execution_count": 17,
   "id": "da0773aa-e43f-4dba-a082-264c4e3a4ca0",
   "metadata": {},
   "outputs": [
    {
     "name": "stdout",
     "output_type": "stream",
     "text": [
      "\n",
      "Date range-rom 26-9-2001:\n",
      " 2000-09-26   -1.387056\n",
      "2000-09-27    2.133230\n",
      "2000-09-28   -2.137865\n",
      "2000-09-29    1.908890\n",
      "2000-09-30   -0.465440\n",
      "                ...   \n",
      "2002-09-22    0.816814\n",
      "2002-09-23    0.986247\n",
      "2002-09-24    0.276696\n",
      "2002-09-25    1.590256\n",
      "2002-09-26    2.139795\n",
      "Freq: D, Length: 731, dtype: float64\n"
     ]
    }
   ],
   "source": [
    "print(\"\\nDate range-rom 26-9-2001:\\n\",longer_ts[datetime(2000,9,26):])\n"
   ]
  },
  {
   "cell_type": "code",
   "execution_count": 19,
   "id": "cf3ae1e2-a5d5-495a-b4af-5bc6cbaa9376",
   "metadata": {},
   "outputs": [
    {
     "name": "stdout",
     "output_type": "stream",
     "text": [
      "\n",
      "Date range from 26-9-2001 to 25-9- 2002:\n",
      " 2001-09-26   -0.462224\n",
      "2001-09-27    0.378169\n",
      "2001-09-28   -0.187796\n",
      "2001-09-29    0.211533\n",
      "2001-09-30   -0.614330\n",
      "                ...   \n",
      "2002-09-21    0.288271\n",
      "2002-09-22    0.816814\n",
      "2002-09-23    0.986247\n",
      "2002-09-24    0.276696\n",
      "2002-09-25    1.590256\n",
      "Freq: D, Length: 365, dtype: float64\n"
     ]
    }
   ],
   "source": [
    "print(\"\\nDate range from 26-9-2001 to 25-9- 2002:\\n\",longer_ts[datetime(2001,9,26):datetime(2002,9,25)])\n"
   ]
  },
  {
   "cell_type": "code",
   "execution_count": null,
   "id": "afb3c95f-d9db-4dae-b730-3201064b9861",
   "metadata": {},
   "outputs": [],
   "source": []
  }
 ],
 "metadata": {
  "kernelspec": {
   "display_name": "Python [conda env:base] *",
   "language": "python",
   "name": "conda-base-py"
  },
  "language_info": {
   "codemirror_mode": {
    "name": "ipython",
    "version": 3
   },
   "file_extension": ".py",
   "mimetype": "text/x-python",
   "name": "python",
   "nbconvert_exporter": "python",
   "pygments_lexer": "ipython3",
   "version": "3.12.7"
  }
 },
 "nbformat": 4,
 "nbformat_minor": 5
}
