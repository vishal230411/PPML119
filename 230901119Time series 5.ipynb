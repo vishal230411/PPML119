{
 "cells": [
  {
   "cell_type": "code",
   "execution_count": 3,
   "id": "61291831-2a68-4934-875a-dbe5630ecb97",
   "metadata": {},
   "outputs": [
    {
     "name": "stdout",
     "output_type": "stream",
     "text": [
      "\n",
      "With this date object, create a series with datetime index:\n",
      " 2020-01-05    1.368264\n",
      "2020-01-10    1.104103\n",
      "2020-01-15    0.437732\n",
      "2020-01-20   -1.331274\n",
      "2020-01-25    0.659362\n",
      "dtype: float64\n"
     ]
    }
   ],
   "source": [
    "import pandas as pd\n",
    "import numpy as np\n",
    "from datetime import datetime\n",
    "dates = [datetime(2020,1,5),\n",
    "         datetime(2020,1,10),\n",
    "         datetime(2020,1,15),\n",
    "         datetime(2020,1,20),\n",
    "         datetime(2020,1,25)]\n",
    "ts = pd.Series(np.random.randn(5), index=dates)\n",
    "print(\"\\nWith this date object, create a series with datetime index:\\n\",ts)\n",
    "\n",
    "\n"
   ]
  },
  {
   "cell_type": "code",
   "execution_count": 5,
   "id": "5d67085c-71f6-4e33-83f8-9099e762c8d3",
   "metadata": {},
   "outputs": [
    {
     "name": "stdout",
     "output_type": "stream",
     "text": [
      "\n",
      "Truncate method to truncate datetime series \n",
      " 2020-01-05    1.368264\n",
      "2020-01-10    1.104103\n",
      "2020-01-15    0.437732\n",
      "dtype: float64\n"
     ]
    }
   ],
   "source": [
    "res=ts.truncate(after=\"1/15/2020\")\n",
    "print(\"\\nTruncate method to truncate datetime series \\n\", res)\n"
   ]
  },
  {
   "cell_type": "code",
   "execution_count": 11,
   "id": "6c81fdf4-62ae-4bfb-9458-9de330eb3de9",
   "metadata": {},
   "outputs": [
    {
     "name": "stdout",
     "output_type": "stream",
     "text": [
      "\n",
      "Date range with day periods.\n",
      " DatetimeIndex(['2022-10-02', '2022-10-09', '2022-10-16', '2022-10-23',\n",
      "               '2022-10-30', '2022-11-06', '2022-11-13', '2022-11-20',\n",
      "               '2022-11-27', '2022-12-04'],\n",
      "              dtype='datetime64[ns]', freq='W-SUN')\n"
     ]
    }
   ],
   "source": [
    "da=pd.date_range(\"10/1/2022\", periods=10, freq=\"W-SUN\")\n",
    "print(\"\\nDate range with day periods.\\n\",da)\n"
   ]
  },
  {
   "cell_type": "code",
   "execution_count": 17,
   "id": "13b0550b-613d-4f5d-b039-72387611f154",
   "metadata": {},
   "outputs": [
    {
     "name": "stdout",
     "output_type": "stream",
     "text": [
      "\n",
      "Duplicate datetime index:\n",
      " 2020-01-01    0\n",
      "2020-01-02    1\n",
      "2020-01-02    2\n",
      "2020-01-02    3\n",
      "2020-01-03    4\n",
      "dtype: int32\n"
     ]
    }
   ],
   "source": [
    "date=pd.DatetimeIndex([\"1/1/2020\",\"1/2/2020\",\"1/2/2020\",\"1/2/2020\",\"1/3/2020\"])\n",
    "ts1=pd.Series(np.arange(5), index=date)\n",
    "print(\"\\nDuplicate datetime index:\\n\",ts1)\n"
   ]
  },
  {
   "cell_type": "code",
   "execution_count": 19,
   "id": "edb61813-db82-40eb-a83f-fe85dee75af7",
   "metadata": {},
   "outputs": [
    {
     "name": "stdout",
     "output_type": "stream",
     "text": [
      "\n",
      "Repeated date counts:\n",
      " 2020-01-01    1\n",
      "2020-01-02    3\n",
      "2020-01-03    1\n",
      "dtype: int64\n"
     ]
    }
   ],
   "source": [
    "group=ts1.groupby(level=0)\n",
    "print(\"\\nRepeated date counts:\\n\",group.count())\n"
   ]
  },
  {
   "cell_type": "code",
   "execution_count": 21,
   "id": "07e22fa7-acfa-447f-9a72-15ba80c3a351",
   "metadata": {},
   "outputs": [
    {
     "name": "stdout",
     "output_type": "stream",
     "text": [
      "\n",
      "Multi-column DataFrame with datatime index:\n",
      "                    A         B         C         D\n",
      "2022-10-02 -1.625650 -0.614044 -0.228187 -1.211319\n",
      "2022-10-09  1.078889  0.304471 -0.424339  0.577081\n",
      "2022-10-16  0.670574  0.305653 -0.267643  1.685663\n",
      "2022-10-23  0.629567  0.030505  1.188432  0.877818\n",
      "2022-10-30  1.563220  0.560227 -1.714911 -0.254103\n",
      "2022-11-06 -1.184457 -1.844099 -0.646125  0.381657\n",
      "2022-11-13 -0.095625  0.379042  0.472909  1.391647\n",
      "2022-11-20 -1.142154 -1.620950  0.558817 -0.724449\n",
      "2022-11-27 -0.890224  0.459243 -1.751968 -0.868043\n",
      "2022-12-04  0.651128  2.310054  0.051820  1.912446\n"
     ]
    }
   ],
   "source": [
    "long_df=pd.DataFrame(np.random.randn(10,4),index=da,columns=list(\"ABCD\"))\n",
    "print(\"\\nMulti-column DataFrame with datatime index:\\n\",long_df)\n"
   ]
  },
  {
   "cell_type": "code",
   "execution_count": null,
   "id": "38d39a49-59df-4749-8676-7df72f5763ee",
   "metadata": {},
   "outputs": [],
   "source": []
  }
 ],
 "metadata": {
  "kernelspec": {
   "display_name": "Python [conda env:base] *",
   "language": "python",
   "name": "conda-base-py"
  },
  "language_info": {
   "codemirror_mode": {
    "name": "ipython",
    "version": 3
   },
   "file_extension": ".py",
   "mimetype": "text/x-python",
   "name": "python",
   "nbconvert_exporter": "python",
   "pygments_lexer": "ipython3",
   "version": "3.12.7"
  }
 },
 "nbformat": 4,
 "nbformat_minor": 5
}
