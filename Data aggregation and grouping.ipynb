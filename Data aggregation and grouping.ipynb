{
 "cells": [
  {
   "cell_type": "code",
   "execution_count": 8,
   "id": "9aa28c3b",
   "metadata": {},
   "outputs": [
    {
     "name": "stdout",
     "output_type": "stream",
     "text": [
      "Orginal DataFrame\n",
      "       Name Category  Value  Score\n",
      "0    Alice        A      2     73\n",
      "1      Bob        B      1     78\n",
      "2  Charlie        C      3     98\n",
      "3    Alice        A      4     89\n",
      "4      Bob        B      2     65\n",
      "5  Charlie        C      1     72\n",
      "Data aggregation with one column\n",
      "       Name  Value\n",
      "0    Alice      6\n",
      "1      Bob      3\n",
      "2  Charlie      4\n"
     ]
    }
   ],
   "source": [
    "import numpy as np\n",
    "import pandas as pd\n",
    "df=pd.DataFrame({'Name':['Alice','Bob','Charlie','Alice','Bob','Charlie'],'Category':['A','B','C','A','B','C'],'Value':np.random.randint(1,5,size=6),'Score':np.random.randint(60,100,size=6)})\n",
    "print(\"Orginal DataFrame\\n\",df)\n",
    "df1=df.groupby(('Name'),as_index=False)['Value'].sum()\n",
    "print(\"Data aggregation with one column\\n\",df1)"
   ]
  },
  {
   "cell_type": "code",
   "execution_count": 11,
   "id": "2b0b3b67",
   "metadata": {},
   "outputs": [
    {
     "name": "stdout",
     "output_type": "stream",
     "text": [
      "Group and aggregation with two column\n",
      "       Name  Value  Score\n",
      "0    Alice      6    162\n",
      "1      Bob      3    143\n",
      "2  Charlie      4    170\n"
     ]
    }
   ],
   "source": [
    "df2=df.groupby(('Name'),as_index=False)['Value'].agg(sum)\n",
    "print(\"Group and aggregation with two column sum\\n\",df2)"
   ]
  },
  {
   "cell_type": "code",
   "execution_count": 28,
   "id": "c3d619eb",
   "metadata": {},
   "outputs": [
    {
     "name": "stdout",
     "output_type": "stream",
     "text": [
      "Group and display from last\n",
      "       Name  Value\n",
      "0    Alice      6\n",
      "1      Bob      3\n",
      "2  Charlie      4\n"
     ]
    }
   ],
   "source": [
    "df3=df.groupby(('Name'),as_index=False)['Value'].sum()\n",
    "print(\"Group and display from last\\n\",df3)"
   ]
  },
  {
   "cell_type": "code",
   "execution_count": 18,
   "id": "8fec6f54",
   "metadata": {},
   "outputs": [
    {
     "name": "stdout",
     "output_type": "stream",
     "text": [
      "Group name by multiple aggregation\n",
      "         Value              Score      \n",
      "          sum mean min max   sum  mean\n",
      "Name                                  \n",
      "Alice       6  3.0   2   4   162  81.0\n",
      "Bob         3  1.5   1   2   143  71.5\n",
      "Charlie     4  2.0   1   3   170  85.0\n"
     ]
    }
   ],
   "source": [
    "df4=df.groupby('Name').agg({'Value':['sum','mean','min','max'],'Score':['sum','mean']})\n",
    "print(\"Group name by multiple aggregation\\n\",df4)"
   ]
  },
  {
   "cell_type": "code",
   "execution_count": 19,
   "id": "03494903",
   "metadata": {},
   "outputs": [
    {
     "name": "stdout",
     "output_type": "stream",
     "text": [
      "Group and count\n",
      "       Name  Value\n",
      "0    Alice      2\n",
      "1      Bob      2\n",
      "2  Charlie      2\n"
     ]
    }
   ],
   "source": [
    "df5=df.groupby(('Name'),as_index=False)['Value'].count()\n",
    "print(\"Group and count\\n\",df5)"
   ]
  },
  {
   "cell_type": "code",
   "execution_count": 21,
   "id": "fff85b09",
   "metadata": {},
   "outputs": [
    {
     "name": "stdout",
     "output_type": "stream",
     "text": [
      "Group and count\n",
      "          Category  Value  Score\n",
      "Name                           \n",
      "Alice           2      2      2\n",
      "Bob             2      2      2\n",
      "Charlie         2      2      2\n"
     ]
    }
   ],
   "source": [
    "df6=df.groupby('Name').count()\n",
    "print(\"Group and count\\n\",df6)"
   ]
  },
  {
   "cell_type": "code",
   "execution_count": 22,
   "id": "4fea8331",
   "metadata": {},
   "outputs": [
    {
     "name": "stdout",
     "output_type": "stream",
     "text": [
      "\n",
      "Group and display from first\n",
      "       Name  Value\n",
      "0    Alice      2\n",
      "1      Bob      1\n",
      "2  Charlie      3\n"
     ]
    }
   ],
   "source": [
    "df7=df.groupby(('Name'),as_index=False)['Value'].first()\n",
    "print(\"\\nGroup and display from first\\n\",df7)"
   ]
  },
  {
   "cell_type": "code",
   "execution_count": 23,
   "id": "f8dd0c4b",
   "metadata": {},
   "outputs": [
    {
     "name": "stdout",
     "output_type": "stream",
     "text": [
      "Group and display from first\n",
      "         Category  Value  Score\n",
      "Name                          \n",
      "Alice          A      2     73\n",
      "Bob            B      1     78\n",
      "Charlie        C      3     98\n"
     ]
    }
   ],
   "source": [
    "df8=df.groupby('Name').first()\n",
    "print(\"Group and display from first\\n\",df8)"
   ]
  },
  {
   "cell_type": "code",
   "execution_count": 24,
   "id": "9394481b",
   "metadata": {},
   "outputs": [
    {
     "name": "stdout",
     "output_type": "stream",
     "text": [
      "Group and display from last\n",
      "       Name  Value\n",
      "0    Alice      4\n",
      "1      Bob      2\n",
      "2  Charlie      1\n"
     ]
    }
   ],
   "source": [
    "df9=df.groupby(('Name'),as_index=False)['Value'].last()\n",
    "print(\"Group and display from last\\n\",df9)"
   ]
  },
  {
   "cell_type": "code",
   "execution_count": 25,
   "id": "ce7e58ac",
   "metadata": {},
   "outputs": [
    {
     "name": "stdout",
     "output_type": "stream",
     "text": [
      "Group and display from last\n",
      "         Category  Value  Score\n",
      "Name                          \n",
      "Alice          A      4     89\n",
      "Bob            B      2     65\n",
      "Charlie        C      1     72\n"
     ]
    }
   ],
   "source": [
    "df10=df.groupby('Name').last()\n",
    "print(\"Group and display from last\\n\",df10)"
   ]
  },
  {
   "cell_type": "code",
   "execution_count": 26,
   "id": "aaedb400",
   "metadata": {},
   "outputs": [
    {
     "name": "stdout",
     "output_type": "stream",
     "text": [
      "Group and display size\n",
      "       Name  size\n",
      "0    Alice     2\n",
      "1      Bob     2\n",
      "2  Charlie     2\n"
     ]
    }
   ],
   "source": [
    "df11=df.groupby(('Name'),as_index=False)['Value'].size()\n",
    "print(\"Group and display size\\n\",df11)"
   ]
  },
  {
   "cell_type": "code",
   "execution_count": 27,
   "id": "3f879b42",
   "metadata": {},
   "outputs": [
    {
     "name": "stdout",
     "output_type": "stream",
     "text": [
      "Group and display from last\n",
      "         Category  Value  Score\n",
      "Name                          \n",
      "Alice          A      4     89\n",
      "Bob            B      2     65\n",
      "Charlie        C      1     72\n"
     ]
    }
   ],
   "source": [
    "df12=df.groupby('Name').last()\n",
    "print(\"Group and display from last\\n\",df12)"
   ]
  },
  {
   "cell_type": "code",
   "execution_count": null,
   "id": "30434f57",
   "metadata": {},
   "outputs": [],
   "source": []
  }
 ],
 "metadata": {
  "kernelspec": {
   "display_name": "Python 3 (ipykernel)",
   "language": "python",
   "name": "python3"
  },
  "language_info": {
   "codemirror_mode": {
    "name": "ipython",
    "version": 3
   },
   "file_extension": ".py",
   "mimetype": "text/x-python",
   "name": "python",
   "nbconvert_exporter": "python",
   "pygments_lexer": "ipython3",
   "version": "3.11.5"
  }
 },
 "nbformat": 4,
 "nbformat_minor": 5
}
