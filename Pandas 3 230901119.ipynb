{
 "cells": [
  {
   "cell_type": "code",
   "execution_count": 2,
   "id": "0cc52eb8",
   "metadata": {},
   "outputs": [
    {
     "name": "stdout",
     "output_type": "stream",
     "text": [
      "Series from array:\n",
      "0    s\n",
      "1    a\n",
      "2    i\n",
      "3    r\n",
      "4    b\n",
      "5    l\n",
      "6    i\n",
      "dtype: object\n"
     ]
    }
   ],
   "source": [
    "import pandas as pd\n",
    "import numpy as np \n",
    "arr=np.array(['s','a','i','r','b','l','i'])\n",
    "a=pd.Series(arr)\n",
    "print(\"Series from array:\")\n",
    "print(a)\n"
   ]
  },
  {
   "cell_type": "code",
   "execution_count": 3,
   "id": "b7b078ad",
   "metadata": {},
   "outputs": [
    {
     "name": "stdout",
     "output_type": "stream",
     "text": [
      "\n",
      " Series using Scalar\n",
      "\n",
      "0    4\n",
      "1    4\n",
      "2    4\n",
      "3    4\n",
      "dtype: int64\n"
     ]
    }
   ],
   "source": [
    "x=pd.Series(4,index=[0,1,2,3])\n",
    "print(\"\\n Series using Scalar\\n\")\n",
    "print(x)"
   ]
  },
  {
   "cell_type": "code",
   "execution_count": 4,
   "id": "25cdeb66",
   "metadata": {},
   "outputs": [
    {
     "name": "stdout",
     "output_type": "stream",
     "text": [
      "\n",
      " a.series:\n",
      " 0    s\n",
      "1    a\n",
      "2    i\n",
      "3    r\n",
      "4    b\n",
      "5    l\n",
      "6    i\n",
      "dtype: object\n",
      "\n",
      " index:\n",
      " RangeIndex(start=0, stop=7, step=1)\n",
      "\n",
      " Values:\n",
      " ['s' 'a' 'i' 'r' 'b' 'l' 'i']\n",
      "\n",
      " Shape:\n",
      " (7,)\n",
      "\n",
      " Dimensions:\n",
      " 1\n",
      "\n",
      " Size:\n",
      " 7\n"
     ]
    }
   ],
   "source": [
    "print(\"\\n a.series:\\n\",a)\n",
    "print(\"\\n index:\\n\",a.index)\n",
    "print(\"\\n Values:\\n\",a.values)\n",
    "print(\"\\n Shape:\\n\",a.shape)\n",
    "print(\"\\n Dimensions:\\n\",a.ndim)\n",
    "print(\"\\n Size:\\n\",a.size)"
   ]
  },
  {
   "cell_type": "code",
   "execution_count": null,
   "id": "527e185c",
   "metadata": {},
   "outputs": [],
   "source": []
  }
 ],
 "metadata": {
  "kernelspec": {
   "display_name": "Python 3 (ipykernel)",
   "language": "python",
   "name": "python3"
  },
  "language_info": {
   "codemirror_mode": {
    "name": "ipython",
    "version": 3
   },
   "file_extension": ".py",
   "mimetype": "text/x-python",
   "name": "python",
   "nbconvert_exporter": "python",
   "pygments_lexer": "ipython3",
   "version": "3.11.5"
  }
 },
 "nbformat": 4,
 "nbformat_minor": 5
}
