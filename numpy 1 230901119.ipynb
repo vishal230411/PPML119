{
  "nbformat": 4,
  "nbformat_minor": 0,
  "metadata": {
    "colab": {
      "provenance": []
    },
    "kernelspec": {
      "name": "python3",
      "display_name": "Python 3"
    },
    "language_info": {
      "name": "python"
    }
  },
  "cells": [
    {
      "cell_type": "code",
      "source": [
        "import numpy as np\n",
        "g=np.array([[10,20,30,40],[50,60,70,80],[90,100,110,120]])\n",
        "h=g.reshape(4,3)\n",
        "print(\"\\nnormal three dimensional array:\\n\",g,\"\\nreshaped array:\\n\",h)"
      ],
      "metadata": {
        "colab": {
          "base_uri": "https://localhost:8080/"
        },
        "id": "Nf-36r8fSzWv",
        "outputId": "66cb764a-e0ae-4f53-bbca-911ffb9fc16f"
      },
      "execution_count": 4,
      "outputs": [
        {
          "output_type": "stream",
          "name": "stdout",
          "text": [
            "\n",
            "normal three dimensional array:\n",
            " [[ 10  20  30  40]\n",
            " [ 50  60  70  80]\n",
            " [ 90 100 110 120]] \n",
            "reshaped array:\n",
            " [[ 10  20  30]\n",
            " [ 40  50  60]\n",
            " [ 70  80  90]\n",
            " [100 110 120]]\n"
          ]
        }
      ]
    },
    {
      "cell_type": "code",
      "source": [
        "import numpy as np\n",
        "g=np.array([[10,20,30,40],[50,60,70,80],[90,100,110,120]])\n",
        "i=g.flatten()\n",
        "print(\"\\nnormal three dimensional array:\\n\",g,\"\\nFlatten array:\\n\",i)"
      ],
      "metadata": {
        "colab": {
          "base_uri": "https://localhost:8080/"
        },
        "id": "DKImJ_ODUk1J",
        "outputId": "a19da06b-ea1e-4a62-aed1-0840edddfc6c"
      },
      "execution_count": 5,
      "outputs": [
        {
          "output_type": "stream",
          "name": "stdout",
          "text": [
            "\n",
            "normal three dimensional array:\n",
            " [[ 10  20  30  40]\n",
            " [ 50  60  70  80]\n",
            " [ 90 100 110 120]] \n",
            "Flatten array:\n",
            " [ 10  20  30  40  50  60  70  80  90 100 110 120]\n"
          ]
        }
      ]
    },
    {
      "cell_type": "code",
      "source": [
        "import numpy as np\n",
        "g=np.array([[[10,20,30,40],[50,60,70,80]],[[90,100,110,120],[130,140,150,160]]])\n",
        "print(\"\\nArray dimension:\\n\",g.ndim)"
      ],
      "metadata": {
        "colab": {
          "base_uri": "https://localhost:8080/"
        },
        "id": "CftUPrj3Uskx",
        "outputId": "0db48684-f337-4a73-e3b7-e7c7aef9048e"
      },
      "execution_count": 6,
      "outputs": [
        {
          "output_type": "stream",
          "name": "stdout",
          "text": [
            "\n",
            "Array dimension:\n",
            " 3\n"
          ]
        }
      ]
    },
    {
      "cell_type": "code",
      "source": [
        "import numpy as np\n",
        "c=np.array([[10,20,30,40],[50,60,70,80],[90,100,110,120]])\n",
        "print(\"Shape of the array:\\n\",c.shape)"
      ],
      "metadata": {
        "colab": {
          "base_uri": "https://localhost:8080/"
        },
        "id": "1vCc9kunU8AC",
        "outputId": "0cb631c7-69e1-49fc-b150-46eab71ba0ed"
      },
      "execution_count": 7,
      "outputs": [
        {
          "output_type": "stream",
          "name": "stdout",
          "text": [
            "Shape of the array:\n",
            " (3, 4)\n"
          ]
        }
      ]
    },
    {
      "cell_type": "code",
      "source": [
        "import numpy as np\n",
        "c=np.array([[10,20,30,40],[50,60,70,80],[90,100,110,120]])\n",
        "print(\"Datatype of the array:\\n\",c.dtype)"
      ],
      "metadata": {
        "colab": {
          "base_uri": "https://localhost:8080/"
        },
        "id": "FVRUKs-7VHHA",
        "outputId": "821786a2-aa36-46f9-afae-ca9e97ae8088"
      },
      "execution_count": 8,
      "outputs": [
        {
          "output_type": "stream",
          "name": "stdout",
          "text": [
            "Datatype of the array:\n",
            " int64\n"
          ]
        }
      ]
    },
    {
      "cell_type": "code",
      "source": [
        "import numpy as np\n",
        "c=np.array([[10,20,30,40],[50,60,70,80],[90,100,110,120]])\n",
        "size=len(c)\n",
        "print(\"size of the array:\\n\",size)"
      ],
      "metadata": {
        "colab": {
          "base_uri": "https://localhost:8080/"
        },
        "id": "x_ayL042VM-q",
        "outputId": "a4add49e-b88a-45da-f736-6d49d81c9e52"
      },
      "execution_count": 9,
      "outputs": [
        {
          "output_type": "stream",
          "name": "stdout",
          "text": [
            "size of the array:\n",
            " 3\n"
          ]
        }
      ]
    },
    {
      "cell_type": "code",
      "source": [
        "import numpy as np\n",
        "a=[1,2,3]\n",
        "a=np.array(a)\n",
        "newtype=a.astype('float64')\n",
        "print(a)\n",
        "print(newtype)\n",
        "print(newtype.dtype)"
      ],
      "metadata": {
        "colab": {
          "base_uri": "https://localhost:8080/"
        },
        "id": "J-4AFRuzVO10",
        "outputId": "36be9cf1-4748-4aba-825d-b758879fca40"
      },
      "execution_count": 10,
      "outputs": [
        {
          "output_type": "stream",
          "name": "stdout",
          "text": [
            "[1 2 3]\n",
            "[1. 2. 3.]\n",
            "float64\n"
          ]
        }
      ]
    }
  ]
}